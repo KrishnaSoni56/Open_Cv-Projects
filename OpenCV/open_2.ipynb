{
 "cells": [
  {
   "cell_type": "markdown",
   "id": "0ac7f494-e510-4962-be6e-6e2f1c3a8d3b",
   "metadata": {},
   "source": [
    "# Project- 1 Image conversion project colored image into grayscale"
   ]
  },
  {
   "cell_type": "code",
   "execution_count": 3,
   "id": "492c1210-b432-42e3-b7d1-b460ed25ccb0",
   "metadata": {},
   "outputs": [],
   "source": [
    "import cv2"
   ]
  },
  {
   "cell_type": "code",
   "execution_count": 4,
   "id": "14ca7012-737d-4d88-adbb-8dd4cfac8043",
   "metadata": {},
   "outputs": [
    {
     "name": "stdin",
     "output_type": "stream",
     "text": [
      "Enter the path and Name of an image : C:\\Users\\soni2\\OneDrive\\Pictures\\Screenshots\\cric.png\n"
     ]
    },
    {
     "name": "stdout",
     "output_type": "stream",
     "text": [
      "You Enter this -- C:\\Users\\soni2\\OneDrive\\Pictures\\Screenshots\\cric.png\n"
     ]
    }
   ],
   "source": [
    "path = input(\"Enter the path and Name of an image :\")\n",
    "print('You Enter this --' , path)\n",
    "\n",
    "# Now read image\n",
    "img1 = cv2.imread(path , 0)\n",
    "img1 = cv2.resize(img1 , (560 , 700))\n",
    "cv2.imshow(\"Converted Image:\" , img1)\n",
    "\n",
    "k = cv2.waitKey(0)\n",
    "if k==ord('s'):\n",
    "    cv2.imwrite(\"C:\\\\Users\\\\soni2\\\\OneDrive\\\\Desktop\\\\cri.png \", img1) \n",
    "else:\n",
    "    cv2.destroyAllWindows()\n",
    "# C:\\Users\\soni2\\OneDrive\\Pictures\\Screenshots\\shoe.png"
   ]
  },
  {
   "cell_type": "code",
   "execution_count": null,
   "id": "dc3ac3c8-0d70-4bca-883a-e8b13e4e7dd9",
   "metadata": {},
   "outputs": [],
   "source": []
  }
 ],
 "metadata": {
  "kernelspec": {
   "display_name": "Python 3 (ipykernel)",
   "language": "python",
   "name": "python3"
  },
  "language_info": {
   "codemirror_mode": {
    "name": "ipython",
    "version": 3
   },
   "file_extension": ".py",
   "mimetype": "text/x-python",
   "name": "python",
   "nbconvert_exporter": "python",
   "pygments_lexer": "ipython3",
   "version": "3.10.9"
  }
 },
 "nbformat": 4,
 "nbformat_minor": 5
}
